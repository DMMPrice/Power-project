{
 "cells": [
  {
   "cell_type": "code",
   "id": "initial_id",
   "metadata": {
    "collapsed": true,
    "ExecuteTime": {
     "end_time": "2024-09-15T04:58:20.472410Z",
     "start_time": "2024-09-15T04:58:20.466870Z"
    }
   },
   "source": [
    "import pandas as pd\n",
    "import numpy as np\n",
    "import matplotlib.pyplot as plt\n",
    "import seaborn as sns\n",
    "import plotly as py"
   ],
   "outputs": [],
   "execution_count": 1
  },
  {
   "metadata": {
    "ExecuteTime": {
     "end_time": "2024-09-15T04:58:20.577890Z",
     "start_time": "2024-09-15T04:58:20.549750Z"
    }
   },
   "cell_type": "code",
   "source": [
    "df = pd.read_csv('karnataka_forecast_UPto_27.csv')\n",
    "df.head()"
   ],
   "id": "70e2f3afcfcbaeca",
   "outputs": [
    {
     "data": {
      "text/plain": [
       "         Date  Peak Demand  Forecasted Demand\n",
       "0  01-04-2013       7191.0            8809.91\n",
       "1  02-04-2013       7652.0            9170.42\n",
       "2  03-04-2013       7620.0            9181.73\n",
       "3  04-04-2013       7557.0            9172.82\n",
       "4  05-04-2013       7540.0            9191.12"
      ],
      "text/html": [
       "<div>\n",
       "<style scoped>\n",
       "    .dataframe tbody tr th:only-of-type {\n",
       "        vertical-align: middle;\n",
       "    }\n",
       "\n",
       "    .dataframe tbody tr th {\n",
       "        vertical-align: top;\n",
       "    }\n",
       "\n",
       "    .dataframe thead th {\n",
       "        text-align: right;\n",
       "    }\n",
       "</style>\n",
       "<table border=\"1\" class=\"dataframe\">\n",
       "  <thead>\n",
       "    <tr style=\"text-align: right;\">\n",
       "      <th></th>\n",
       "      <th>Date</th>\n",
       "      <th>Peak Demand</th>\n",
       "      <th>Forecasted Demand</th>\n",
       "    </tr>\n",
       "  </thead>\n",
       "  <tbody>\n",
       "    <tr>\n",
       "      <th>0</th>\n",
       "      <td>01-04-2013</td>\n",
       "      <td>7191.0</td>\n",
       "      <td>8809.91</td>\n",
       "    </tr>\n",
       "    <tr>\n",
       "      <th>1</th>\n",
       "      <td>02-04-2013</td>\n",
       "      <td>7652.0</td>\n",
       "      <td>9170.42</td>\n",
       "    </tr>\n",
       "    <tr>\n",
       "      <th>2</th>\n",
       "      <td>03-04-2013</td>\n",
       "      <td>7620.0</td>\n",
       "      <td>9181.73</td>\n",
       "    </tr>\n",
       "    <tr>\n",
       "      <th>3</th>\n",
       "      <td>04-04-2013</td>\n",
       "      <td>7557.0</td>\n",
       "      <td>9172.82</td>\n",
       "    </tr>\n",
       "    <tr>\n",
       "      <th>4</th>\n",
       "      <td>05-04-2013</td>\n",
       "      <td>7540.0</td>\n",
       "      <td>9191.12</td>\n",
       "    </tr>\n",
       "  </tbody>\n",
       "</table>\n",
       "</div>"
      ]
     },
     "execution_count": 2,
     "metadata": {},
     "output_type": "execute_result"
    }
   ],
   "execution_count": 2
  },
  {
   "metadata": {
    "ExecuteTime": {
     "end_time": "2024-09-15T04:59:32.176981Z",
     "start_time": "2024-09-15T04:59:32.166430Z"
    }
   },
   "cell_type": "code",
   "source": "df.info()",
   "id": "6a1e52b8abb285ff",
   "outputs": [
    {
     "name": "stdout",
     "output_type": "stream",
     "text": [
      "<class 'pandas.core.frame.DataFrame'>\n",
      "RangeIndex: 5113 entries, 0 to 5112\n",
      "Data columns (total 3 columns):\n",
      " #   Column             Non-Null Count  Dtype  \n",
      "---  ------             --------------  -----  \n",
      " 0   Date               5113 non-null   object \n",
      " 1   Peak Demand        4018 non-null   float64\n",
      " 2   Forecasted Demand  5113 non-null   float64\n",
      "dtypes: float64(2), object(1)\n",
      "memory usage: 120.0+ KB\n"
     ]
    }
   ],
   "execution_count": 3
  },
  {
   "metadata": {
    "ExecuteTime": {
     "end_time": "2024-09-15T05:00:48.929926Z",
     "start_time": "2024-09-15T05:00:48.921460Z"
    }
   },
   "cell_type": "code",
   "source": [
    "df = pd.DataFrame(df)\n",
    "df"
   ],
   "id": "9d1598bc281afa67",
   "outputs": [
    {
     "data": {
      "text/plain": [
       "            Date  Peak Demand  Forecasted Demand\n",
       "0     01-04-2013       7191.0            8809.91\n",
       "1     02-04-2013       7652.0            9170.42\n",
       "2     03-04-2013       7620.0            9181.73\n",
       "3     04-04-2013       7557.0            9172.82\n",
       "4     05-04-2013       7540.0            9191.12\n",
       "...          ...          ...                ...\n",
       "5108  27-03-2027          NaN           22312.68\n",
       "5109  28-03-2027          NaN           21901.99\n",
       "5110  29-03-2027          NaN           21824.28\n",
       "5111  30-03-2027          NaN           22190.58\n",
       "5112  31-03-2027          NaN           22207.40\n",
       "\n",
       "[5113 rows x 3 columns]"
      ],
      "text/html": [
       "<div>\n",
       "<style scoped>\n",
       "    .dataframe tbody tr th:only-of-type {\n",
       "        vertical-align: middle;\n",
       "    }\n",
       "\n",
       "    .dataframe tbody tr th {\n",
       "        vertical-align: top;\n",
       "    }\n",
       "\n",
       "    .dataframe thead th {\n",
       "        text-align: right;\n",
       "    }\n",
       "</style>\n",
       "<table border=\"1\" class=\"dataframe\">\n",
       "  <thead>\n",
       "    <tr style=\"text-align: right;\">\n",
       "      <th></th>\n",
       "      <th>Date</th>\n",
       "      <th>Peak Demand</th>\n",
       "      <th>Forecasted Demand</th>\n",
       "    </tr>\n",
       "  </thead>\n",
       "  <tbody>\n",
       "    <tr>\n",
       "      <th>0</th>\n",
       "      <td>01-04-2013</td>\n",
       "      <td>7191.0</td>\n",
       "      <td>8809.91</td>\n",
       "    </tr>\n",
       "    <tr>\n",
       "      <th>1</th>\n",
       "      <td>02-04-2013</td>\n",
       "      <td>7652.0</td>\n",
       "      <td>9170.42</td>\n",
       "    </tr>\n",
       "    <tr>\n",
       "      <th>2</th>\n",
       "      <td>03-04-2013</td>\n",
       "      <td>7620.0</td>\n",
       "      <td>9181.73</td>\n",
       "    </tr>\n",
       "    <tr>\n",
       "      <th>3</th>\n",
       "      <td>04-04-2013</td>\n",
       "      <td>7557.0</td>\n",
       "      <td>9172.82</td>\n",
       "    </tr>\n",
       "    <tr>\n",
       "      <th>4</th>\n",
       "      <td>05-04-2013</td>\n",
       "      <td>7540.0</td>\n",
       "      <td>9191.12</td>\n",
       "    </tr>\n",
       "    <tr>\n",
       "      <th>...</th>\n",
       "      <td>...</td>\n",
       "      <td>...</td>\n",
       "      <td>...</td>\n",
       "    </tr>\n",
       "    <tr>\n",
       "      <th>5108</th>\n",
       "      <td>27-03-2027</td>\n",
       "      <td>NaN</td>\n",
       "      <td>22312.68</td>\n",
       "    </tr>\n",
       "    <tr>\n",
       "      <th>5109</th>\n",
       "      <td>28-03-2027</td>\n",
       "      <td>NaN</td>\n",
       "      <td>21901.99</td>\n",
       "    </tr>\n",
       "    <tr>\n",
       "      <th>5110</th>\n",
       "      <td>29-03-2027</td>\n",
       "      <td>NaN</td>\n",
       "      <td>21824.28</td>\n",
       "    </tr>\n",
       "    <tr>\n",
       "      <th>5111</th>\n",
       "      <td>30-03-2027</td>\n",
       "      <td>NaN</td>\n",
       "      <td>22190.58</td>\n",
       "    </tr>\n",
       "    <tr>\n",
       "      <th>5112</th>\n",
       "      <td>31-03-2027</td>\n",
       "      <td>NaN</td>\n",
       "      <td>22207.40</td>\n",
       "    </tr>\n",
       "  </tbody>\n",
       "</table>\n",
       "<p>5113 rows × 3 columns</p>\n",
       "</div>"
      ]
     },
     "execution_count": 5,
     "metadata": {},
     "output_type": "execute_result"
    }
   ],
   "execution_count": 5
  },
  {
   "metadata": {},
   "cell_type": "code",
   "outputs": [],
   "execution_count": null,
   "source": "",
   "id": "95c05759c02f313"
  }
 ],
 "metadata": {
  "kernelspec": {
   "display_name": "Python 3",
   "language": "python",
   "name": "python3"
  },
  "language_info": {
   "codemirror_mode": {
    "name": "ipython",
    "version": 2
   },
   "file_extension": ".py",
   "mimetype": "text/x-python",
   "name": "python",
   "nbconvert_exporter": "python",
   "pygments_lexer": "ipython2",
   "version": "2.7.6"
  }
 },
 "nbformat": 4,
 "nbformat_minor": 5
}
